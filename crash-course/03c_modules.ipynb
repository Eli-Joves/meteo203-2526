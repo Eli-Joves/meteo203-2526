{
 "cells": [
  {
   "cell_type": "markdown",
   "metadata": {},
   "source": [
    "# Loading and using modules\n",
    "\n",
    "## Modules, packages and libraries?\n",
    "\n",
    "Python [module](https://docs.python.org/3/tutorial/modules.html#modules) refers to a piece of Python code that is designed to execute a spesific task. Technically, modules are simply Python script files (file extension`.py`) that contain function definitions and other statements. Python [packages](https://docs.python.org/3/tutorial/modules.html#packages) are a way of organizing modules into larger entities. \n",
    "\n",
    "Modules and packages are similar to what are more generally called libraries in programming languages, which again contain code related to a specific task such as mathematical operations.\n",
    "There are a *HUGE* number of Python modules/packages, and many of them greatly extend what can be done in a normal Python program.\n",
    "In fact, the abundance of free Python modules is one of the best reasons to learn and start using Python.\n",
    "\n",
    "```{note}\n",
    "The words \"module\", \"package\" and \"library\" are often used interchangeably.\n",
    "```\n",
    "\n",
    "## Loading modules\n",
    "\n",
    "Python modules can be loaded in a number of different ways.\n",
    "\n",
    "Let's start simple with the math module.\n",
    "Here, we’ll load the math module using the `import` statement and try out some of the functions in the module, such as the square root function `sqrt`."
   ]
  },
  {
   "cell_type": "code",
   "execution_count": 1,
   "metadata": {},
   "outputs": [],
   "source": [
    "import math"
   ]
  },
  {
   "cell_type": "code",
   "execution_count": 2,
   "metadata": {},
   "outputs": [
    {
     "data": {
      "text/plain": [
       "9.0"
      ]
     },
     "execution_count": 2,
     "metadata": {},
     "output_type": "execute_result"
    }
   ],
   "source": [
    "math.sqrt(81)"
   ]
  },
  {
   "cell_type": "code",
   "execution_count": 3,
   "metadata": {},
   "outputs": [
    {
     "name": "stdout",
     "output_type": "stream",
     "text": [
      "Help on built-in function sqrt in module math:\n",
      "\n",
      "sqrt(x, /)\n",
      "    Return the square root of x.\n",
      "\n"
     ]
    }
   ],
   "source": [
    "help(math.sqrt)"
   ]
  },
  {
   "cell_type": "markdown",
   "metadata": {},
   "source": [
    "Here we have loaded the math module by typing `import math`, which tells Python to read in the functions in the math module and make them available for use.\n",
    "In our example, we see that we can use a function within the math library by typing the name of the module first, a period, and then the name of function we would like to use afterward (e.g., `math.sqrt()`)."
   ]
  },
  {
   "cell_type": "markdown",
   "metadata": {},
   "source": [
    "### Built-in functions\n",
    "\n",
    "[Built-in functions](https://docs.python.org/3/library/functions.html) such as `print()` are always available without importing anything:"
   ]
  },
  {
   "cell_type": "code",
   "execution_count": 4,
   "metadata": {},
   "outputs": [
    {
     "name": "stdout",
     "output_type": "stream",
     "text": [
      "Hello world!\n"
     ]
    }
   ],
   "source": [
    "print(\"Hello world!\")"
   ]
  },
  {
   "cell_type": "code",
   "execution_count": 5,
   "metadata": {},
   "outputs": [
    {
     "data": {
      "text/plain": [
       "4"
      ]
     },
     "execution_count": 5,
     "metadata": {},
     "output_type": "execute_result"
    }
   ],
   "source": [
    "len([1,2,3,4])"
   ]
  },
  {
   "cell_type": "code",
   "execution_count": 6,
   "metadata": {},
   "outputs": [
    {
     "data": {
      "text/plain": [
       "range(1, 10)"
      ]
     },
     "execution_count": 6,
     "metadata": {},
     "output_type": "execute_result"
    }
   ],
   "source": [
    "range(1,10)"
   ]
  },
  {
   "cell_type": "markdown",
   "metadata": {},
   "source": [
    "Technically, the built-in functions belong to a module called `builtins`."
   ]
  },
  {
   "cell_type": "markdown",
   "metadata": {},
   "source": [
    "### Renaming imported modules\n",
    "\n",
    "We can also rename modules when they are imported.\n",
    "This can be helpful when using modules with longer names.\n",
    "Let's import the `math` module but rename it to `m` using the format `import module as name`.\n",
    "Then we can using the `sqrt` function from the math library and check the type of our module named `m`."
   ]
  },
  {
   "cell_type": "code",
   "execution_count": 7,
   "metadata": {},
   "outputs": [],
   "source": [
    "import math as m"
   ]
  },
  {
   "cell_type": "code",
   "execution_count": 8,
   "metadata": {},
   "outputs": [
    {
     "data": {
      "text/plain": [
       "7.0"
      ]
     },
     "execution_count": 8,
     "metadata": {},
     "output_type": "execute_result"
    }
   ],
   "source": [
    "m.sqrt(49)"
   ]
  },
  {
   "cell_type": "code",
   "execution_count": 9,
   "metadata": {},
   "outputs": [
    {
     "data": {
      "text/plain": [
       "module"
      ]
     },
     "execution_count": 9,
     "metadata": {},
     "output_type": "execute_result"
    }
   ],
   "source": [
    "type(m)"
   ]
  },
  {
   "cell_type": "markdown",
   "metadata": {},
   "source": [
    "Here, we imported the `math` module to be usable with the name `m` instead of `math`. We will see other examples later in the course where using an alternate name is rather useful. For example, next week we will start using the `pandas` library for data analysis. It is customary to import pandas as `pd`:"
   ]
  },
  {
   "cell_type": "code",
   "execution_count": 10,
   "metadata": {},
   "outputs": [],
   "source": [
    "import pandas as pd"
   ]
  },
  {
   "cell_type": "markdown",
   "metadata": {
    "tags": []
   },
   "source": [
    "## Installing packages\n",
    "\n",
    "For those using their own computers, I recommend using the [anaconda](https://anaconda.org/) package management system.\n",
    "\n",
    "Installing using conda is easy. Just follow the instructions online. For example, to install [pandas](https://anaconda.org/anaconda/pandas) just run\n",
    "\n",
    "`conda install -c anaconda pandas`\n",
    "    \n",
    "It's also good to be aware of [pip](https://pypi.org/project/pip/), the package installer for python. Pip and Mamba are often used for similar purposes, but the key difference is that pip is used for installing packages written in Python, while Mamba handles packages that might also contain code written in other languages. Generally, we encourage you to use Mamba when installing packages (and within Mamba, prefer for you to use the same channel for installations). However, sometimes you might need a package that is not available via Mamba, but can be installed with pip.\n",
    "\n",
    "```{admonition} Checking all available modules in a Jupyter Notebook\n",
    "In a Jupyter Notebook, you can type in `help(\"modules\")` to check the complete list of installed packages in Python. However, the output is a bit clumsy and hard to read...\n",
    "```"
   ]
  },
  {
   "cell_type": "code",
   "execution_count": 11,
   "metadata": {},
   "outputs": [
    {
     "name": "stdout",
     "output_type": "stream",
     "text": [
      "\n",
      "Please wait a moment while I gather a list of all available modules...\n",
      "\n",
      "IPython             _zoneinfo           marshal             subprocess\n",
      "PIL                 abc                 math                symtable\n",
      "PyQt6               adodbapi            matplotlib          sys\n",
      "__future__          afxres              matplotlib_inline   sysconfig\n",
      "__hello__           antigravity         mimetypes           tabnanny\n",
      "__phello__          argparse            mkl                 tarfile\n",
      "_abc                array               mkl_fft             temp_converter\n",
      "_aix_support        ast                 mkl_random          tempfile\n",
      "_android_support    asttokens           mmap                test\n",
      "_apple_support      asyncio             mmapfile            textwrap\n",
      "_ast                atexit              mmsystem            this\n",
      "_asyncio            autocommand         modulefinder        threading\n",
      "_bisect             backports           more_itertools      time\n",
      "_blake2             base64              msvcrt              timeit\n",
      "_brotli             bdb                 multiprocessing     timer\n",
      "_bz2                binascii            nest_asyncio        tkinter\n",
      "_codecs             bisect              netbios             token\n",
      "_codecs_cn          bottleneck          netrc               tokenize\n",
      "_codecs_hk          brotli              nt                  tomli\n",
      "_codecs_iso2022     builtins            ntpath              tomllib\n",
      "_codecs_jp          bz2                 ntsecuritycon       tornado\n",
      "_codecs_kr          cProfile            nturl2path          trace\n",
      "_codecs_tw          calendar            numbers             traceback\n",
      "_collections        cmath               numexpr             tracemalloc\n",
      "_collections_abc    cmd                 numpy               traitlets\n",
      "_colorize           code                odbc                tty\n",
      "_compat_pickle      codecs              opcode              turtle\n",
      "_compression        codeop              operator            turtledemo\n",
      "_contextvars        collections         optparse            typeguard\n",
      "_csv                colorama            ordered_set         types\n",
      "_ctypes             colorsys            os                  typing\n",
      "_ctypes_test        comm                packaging           typing_extensions\n",
      "_datetime           commctrl            pandas              tzdata\n",
      "_decimal            compileall          parso               unicodedata\n",
      "_distutils_hack     concurrent          pathlib             unittest\n",
      "_elementtree        configparser        pdb                 urllib\n",
      "_functools          contextlib          perfmon             uuid\n",
      "_hashlib            contextvars         pickle              venv\n",
      "_heapq              contourpy           pickletools         warnings\n",
      "_imp                copy                pip                 wave\n",
      "_interpchannels     copyreg             pkg_resources       wcwidth\n",
      "_interpqueues       csv                 pkgutil             weakref\n",
      "_interpreters       ctypes              platform            webbrowser\n",
      "_io                 curses              platformdirs        wheel\n",
      "_ios_support        cycler              plistlib            win2kras\n",
      "_json               dataclasses         poplib              win32api\n",
      "_locale             datetime            posixpath           win32clipboard\n",
      "_lsprof             dateutil            pprint              win32com\n",
      "_lzma               dbm                 profile             win32con\n",
      "_markupbase         dde                 prompt_toolkit      win32console\n",
      "_md5                debugpy             pstats              win32cred\n",
      "_multibytecodec     decimal             psutil              win32crypt\n",
      "_multiprocessing    decorator           pty                 win32cryptcon\n",
      "_opcode             difflib             pure_eval           win32event\n",
      "_opcode_metadata    dis                 py_compile          win32evtlog\n",
      "_operator           doctest             pyclbr              win32evtlogutil\n",
      "_osx_support        email               pydoc               win32file\n",
      "_overlapped         encodings           pydoc_data          win32gui\n",
      "_pickle             ensurepip           pyexpat             win32gui_struct\n",
      "_py_abc             enum                pygments            win32help\n",
      "_pydatetime         errno               pylab               win32inet\n",
      "_pydecimal          executing           pyparsing           win32inetcon\n",
      "_pyio               faulthandler        pythoncom           win32job\n",
      "_pylong             filecmp             pytz                win32lz\n",
      "_pyrepl             fileinput           pywin               win32net\n",
      "_queue              fnmatch             pywin32_bootstrap   win32netcon\n",
      "_random             fontTools           pywin32_testutil    win32pdh\n",
      "_sha1               fractions           pywintypes          win32pdhquery\n",
      "_sha2               ftplib              queue               win32pdhutil\n",
      "_sha3               functools           quopri              win32pipe\n",
      "_signal             gc                  random              win32print\n",
      "_sitebuiltins       genericpath         rasutil             win32process\n",
      "_socket             getopt              re                  win32profile\n",
      "_sqlite3            getpass             regcheck            win32ras\n",
      "_sre                gettext             regutil             win32rcparser\n",
      "_ssl                glob                reprlib             win32security\n",
      "_stat               graphlib            rlcompleter         win32service\n",
      "_statistics         gzip                runpy               win32serviceutil\n",
      "_string             hashlib             sched               win32timezone\n",
      "_strptime           heapq               scipy               win32trace\n",
      "_struct             hmac                secrets             win32traceutil\n",
      "_suggestions        html                select              win32transaction\n",
      "_symtable           http                selectors           win32ts\n",
      "_sysconfig          idlelib             servicemanager      win32ui\n",
      "_testbuffer         imaplib             setuptools          win32uiole\n",
      "_testcapi           importlib           shelve              win32verstamp\n",
      "_testclinic         importlib_metadata  shlex               win32wnet\n",
      "_testclinic_limited importlib_resources shutil              winerror\n",
      "_testconsole        inflect             signal              winioctlcon\n",
      "_testimportmultiple inspect             sipbuild            winnt\n",
      "_testinternalcapi   io                  site                winperf\n",
      "_testlimitedcapi    ipaddress           six                 winreg\n",
      "_testmultiphase     ipykernel           smtplib             winsound\n",
      "_testsinglephase    ipykernel_launcher  socket              winxpgui\n",
      "_thread             ipython_pygments_lexers socketserver        winxptheme\n",
      "_threading_local    isapi               sqlite3             wsgiref\n",
      "_tkinter            itertools           sre_compile         xml\n",
      "_tokenize           jedi                sre_constants       xmlrpc\n",
      "_tracemalloc        json                sre_parse           xxlimited\n",
      "_typing             jupyter             ssl                 xxlimited_35\n",
      "_uuid               jupyter_client      sspi                xxsubtype\n",
      "_warnings           jupyter_core        sspicon             zipapp\n",
      "_weakref            keyword             stack_data          zipfile\n",
      "_weakrefset         kiwisolver          start_pythonwin     zipimport\n",
      "_win32sysloader     linecache           stat                zipp\n",
      "_win32verstamp_pywin32ctypes locale              statistics          zlib\n",
      "_winapi             logging             string              zmq\n",
      "_winxptheme         lzma                stringprep          zoneinfo\n",
      "_wmi                mailbox             struct              \n",
      "\n",
      "Enter any module name to get more help.  Or, type \"modules spam\" to search\n",
      "for modules whose name or summary contain the string \"spam\".\n",
      "\n"
     ]
    }
   ],
   "source": [
    "help('modules')"
   ]
  },
  {
   "cell_type": "markdown",
   "metadata": {},
   "source": [
    "### Importing a single function\n",
    "\n",
    "It is also possible to import only a single function from a module, rather than the entire module.\n",
    "This is sometimes useful when needing only a small piece of a large module.\n",
    "We can do this using the form `from module import function`.\n",
    "Let's import the `sqrt` function from the `math` module using this form.\n",
    "Again, we can test using our resulting function afterward."
   ]
  },
  {
   "cell_type": "code",
   "execution_count": 12,
   "metadata": {},
   "outputs": [],
   "source": [
    "from math import sqrt"
   ]
  },
  {
   "cell_type": "code",
   "execution_count": 13,
   "metadata": {},
   "outputs": [
    {
     "data": {
      "text/plain": [
       "11.0"
      ]
     },
     "execution_count": 13,
     "metadata": {},
     "output_type": "execute_result"
    }
   ],
   "source": [
    "sqrt(121)"
   ]
  },
  {
   "cell_type": "markdown",
   "metadata": {},
   "source": [
    "Though this can be useful, it has the drawback that **the imported function could conflict with other built-in or imported function names**, and you lose the information about which module contains the imported function.\n",
    "You should only do this when you truly need to.\n",
    "\n",
    "### Importing a submodule\n",
    "\n",
    "Some modules have submodules that can also be imported without importing the entire module.\n",
    "We may see examples of this later when making data plots using the pyplot sub-module of the [Matplotlib module](http://matplotlib.org/).\n",
    "In case you're curious, here is an example."
   ]
  },
  {
   "cell_type": "code",
   "execution_count": 14,
   "metadata": {},
   "outputs": [],
   "source": [
    "import matplotlib.pyplot as plt\n",
    "import math"
   ]
  },
  {
   "cell_type": "code",
   "execution_count": 15,
   "metadata": {},
   "outputs": [
    {
     "data": {
      "text/plain": [
       "[<matplotlib.lines.Line2D at 0x1980cb860d0>]"
      ]
     },
     "execution_count": 15,
     "metadata": {},
     "output_type": "execute_result"
    },
    {
     "data": {
      "image/png": "[encoded data removed]",
      "text/plain": [
       "<Figure size 640x480 with 1 Axes>"
      ]
     },
     "metadata": {},
     "output_type": "display_data"
    }
   ],
   "source": [
    "# Plot a simple x y line graph with default settings\n",
    "x = [1, 2, 3, 4, 5]\n",
    "y = [5, 4, 3, 2, 1]\n",
    "plt.plot(x, y)"
   ]
  },
  {
   "cell_type": "markdown",
   "metadata": {},
   "source": [
    "You can read more about the plotting function in [matplotlib pyplot documentation](https://matplotlib.org/api/_as_gen/matplotlib.pyplot.plot.html). We will introduce matplotlib in detail during week 7."
   ]
  },
  {
   "cell_type": "markdown",
   "metadata": {},
   "source": [
    "## Using module functions\n",
    "\n",
    "As we see above, the easiest way to use a module is to import it an then use its functions by typing `modulename.functionname()` and providing the necessary arguments.\n",
    "Yes, it is that simple.\n",
    "\n",
    "However, there are times you may not know the names of all of the functions in a given module, or which are part of a module.\n",
    "You can view the list of functions that are part of a module by using the `dir()` function."
   ]
  },
  {
   "cell_type": "code",
   "execution_count": 16,
   "metadata": {},
   "outputs": [
    {
     "name": "stdout",
     "output_type": "stream",
     "text": [
      "['__doc__', '__loader__', '__name__', '__package__', '__spec__', 'acos', 'acosh', 'asin', 'asinh', 'atan', 'atan2', 'atanh', 'cbrt', 'ceil', 'comb', 'copysign', 'cos', 'cosh', 'degrees', 'dist', 'e', 'erf', 'erfc', 'exp', 'exp2', 'expm1', 'fabs', 'factorial', 'floor', 'fma', 'fmod', 'frexp', 'fsum', 'gamma', 'gcd', 'hypot', 'inf', 'isclose', 'isfinite', 'isinf', 'isnan', 'isqrt', 'lcm', 'ldexp', 'lgamma', 'log', 'log10', 'log1p', 'log2', 'modf', 'nan', 'nextafter', 'perm', 'pi', 'pow', 'prod', 'radians', 'remainder', 'sin', 'sinh', 'sqrt', 'sumprod', 'tan', 'tanh', 'tau', 'trunc', 'ulp']\n"
     ]
    }
   ],
   "source": [
    "print(dir(math))"
   ]
  },
  {
   "cell_type": "markdown",
   "metadata": {},
   "source": [
    "You can also browse the available modules by typing in modulename. and then pressing the tab-key:\n",
    "\n",
    "![view module keys img](img/view_module_functions.png)"
   ]
  },
  {
   "cell_type": "markdown",
   "metadata": {},
   "source": [
    "So that's helpful, but what about when you don't know what a given function does?\n",
    "The easiest solution is to use the `help()` function (after importing the module).\n",
    "Let's check the help for the `math.sin` function."
   ]
  },
  {
   "cell_type": "code",
   "execution_count": 17,
   "metadata": {},
   "outputs": [
    {
     "name": "stdout",
     "output_type": "stream",
     "text": [
      "Help on built-in function sin in module math:\n",
      "\n",
      "sin(x, /)\n",
      "    Return the sine of x (measured in radians).\n",
      "\n"
     ]
    }
   ],
   "source": [
    "help(math.sin)"
   ]
  },
  {
   "cell_type": "markdown",
   "metadata": {},
   "source": [
    "## What should I not do?\n",
    "\n",
    "Here are a few things to avoid.\n",
    "\n",
    "### from X import *\n",
    "\n",
    "Don't use `from X import *`.\n",
    "This may be easier to understand by way of an example, but assuming `X` above is a Python module, `from X import *` will import all of the functions in module X.\n",
    "Though you might think this is helpful, it is much better to simply `import X` or `import X as Y` to keep the connection between the functions and their module.\n",
    "It is also much more likely you will encounter conflicting names when using `from X import *`.\n",
    "\n",
    "### Poor names when renaming on import\n",
    "\n",
    "Don't use confusing names when renaming on import.\n",
    "Be smart when you import modules, and follow generally used conventions (`import pandas as pd` is a good way to do things!).\n",
    "If you want to make the module name shorter on import, pick a reasonable abbreviation.\n",
    "For instance, `import matplotlib as m` could be confusing, especially if you're also using `import math as m` in other Jupyter notebooks or script files.\n",
    "Similarly, `import matplotlib as math` is perfectly OK syntax in Python, but bound to cause a world of trouble.\n",
    "Remember, people need to be able to read and understand the code you write, keep it simple and logical."
   ]
  },
  {
   "cell_type": "markdown",
   "metadata": {},
   "source": [
    "```{admonition} What does PEP 8 say about imports?\n",
    "According to good coding practices described in <a href=\"https://www.python.org/dev/peps/pep-0008/#imports\">PEP 8</a>, we should always import modules at the top of the file. In this lesson, we are demonstrating how to import different modules along the way, but in general it would be better to import requried modules as the very first thing. PEP 8 refers more to traditional script files, but we can apply the guideline to Jupyter Notebook files by placing our imports the first code cell in the Jupyter Notebook.\n",
    "```"
   ]
  },
  {
   "cell_type": "code",
   "execution_count": 18,
   "metadata": {},
   "outputs": [],
   "source": [
    "# IMPORTS\n",
    "import math\n",
    "\n",
    "# CONSTANTS\n",
    "g = 9.8\n",
    "\n",
    "# FUNCTIONS\n",
    "def ft2m(ft):\n",
    "    return ft/3.3"
   ]
  },
  {
   "cell_type": "markdown",
   "metadata": {
    "tags": []
   },
   "source": [
    "### Managing environments\n",
    "\n",
    "Adapted from [Towards Data Science](https://towardsdatascience.com/creating-and-using-virtual-environment-on-jupyter-notebook-with-python-db3f5afdd56a)\n",
    "\n",
    "There are times that your packages or libraries will be in conflict with each other, especially if development is rapid and functions continue to be deprecated. Virtual environments allow us to create isolated environments where we can install different packages, and even different versions of these packages. \n",
    "\n",
    "#### Virtual Environment with Anaconda\n",
    "Open an anaconda prompt, and then type the following\n",
    "`conda create -n myenv python=x.x`\n",
    "\n",
    "Where x.x is the version of python that you want to use.\n",
    "\n",
    "For example, in this course we are using python 3.7, we type the following to create a meteo231 environment....\n",
    "\n",
    "`conda create -n meteo231 python=3.7`\n",
    "\n",
    "\n",
    "![conda_env](img/03_virtualenv_conda.PNG)\n",
    "\n",
    "To activate, type  \n",
    "`conda activate meteo231`\n",
    "\n",
    "To install packages in an environment, use the conda manager __while__ you are in the environment.  \n",
    "`conda activate meteo231`  \n",
    "`conda install -c anaconda pandas`\n",
    "\n",
    "![pandas_install](img/03_virtualenv_pandas.PNG)\n",
    "\n",
    "To deactivate, just type  \n",
    "`conda deactivate`"
   ]
  },
  {
   "cell_type": "markdown",
   "metadata": {},
   "source": [
    "### Adding Virtual Environment in Jupyter Notebook\n",
    "\n",
    "Creating a new environment does not automatically add this to your Jupyter Notebook environment. \n",
    "\n",
    "![new_env](img/03_kernels.PNG)\n",
    "\n",
    "To include environment in Jupyter Notebook  \n",
    "`conda activate meteo231`  \n",
    "`conda install ipykernel`  \n",
    "\n",
    "And then manually add the kernel  \n",
    "`python -m ipykernel install --user --name=meteo231`\n",
    "\n",
    "Check if it's working  \n",
    "`conda deactivate`  \n",
    "`jupyter lab`  \n",
    "![env_avail](img/03_kernels_added.PNG)\n",
    "\n",
    "\n",
    "__NOTES__\n",
    "\n",
    "1. Always check the current environment\n",
    "2. Make sure you are in (base) before running `jupyter lab`\n",
    "3. Installing packages will eventually be messy, and you will destroy your environments. Make backups by exporting the environments\n",
    "\n",
    "`conda env export > environment.yml`  \n",
    "\n",
    "On a new machine, you can now install the environment by....\n",
    "\n",
    "`conda env create -f environment.yml`"
   ]
  }
 ],
 "metadata": {
  "kernelspec": {
   "display_name": "Python (meteo203)",
   "language": "python",
   "name": "meteo203"
  },
  "language_info": {
   "codemirror_mode": {
    "name": "ipython",
    "version": 3
   },
   "file_extension": ".py",
   "mimetype": "text/x-python",
   "name": "python",
   "nbconvert_exporter": "python",
   "pygments_lexer": "ipython3",
   "version": "3.13.5"
  }
 },
 "nbformat": 4,
 "nbformat_minor": 4
}
